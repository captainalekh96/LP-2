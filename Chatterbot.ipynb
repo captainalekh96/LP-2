{
 "cells": [
  {
   "cell_type": "code",
   "execution_count": null,
   "metadata": {
    "colab": {
     "base_uri": "https://localhost:8080/"
    },
    "id": "8xyUUIbi5xJR",
    "outputId": "f35f17c2-61b3-46f4-8316-a864fbf2a6fb"
   },
   "outputs": [
    {
     "name": "stdout",
     "output_type": "stream",
     "text": [
      "Collecting chatterbot\n",
      "  Downloading ChatterBot-1.0.8-py2.py3-none-any.whl (63 kB)\n",
      "\u001b[?25l\r",
      "\u001b[K     |█████▏                          | 10 kB 21.0 MB/s eta 0:00:01\r",
      "\u001b[K     |██████████▎                     | 20 kB 16.0 MB/s eta 0:00:01\r",
      "\u001b[K     |███████████████▌                | 30 kB 11.0 MB/s eta 0:00:01\r",
      "\u001b[K     |████████████████████▋           | 40 kB 9.5 MB/s eta 0:00:01\r",
      "\u001b[K     |█████████████████████████▊      | 51 kB 5.2 MB/s eta 0:00:01\r",
      "\u001b[K     |███████████████████████████████ | 61 kB 5.4 MB/s eta 0:00:01\r",
      "\u001b[K     |████████████████████████████████| 63 kB 1.7 MB/s \n",
      "\u001b[?25hCollecting mathparse<0.2,>=0.1\n",
      "  Downloading mathparse-0.1.2-py3-none-any.whl (7.2 kB)\n",
      "Collecting sqlalchemy<1.4,>=1.3\n",
      "  Downloading SQLAlchemy-1.3.24-cp37-cp37m-manylinux2010_x86_64.whl (1.3 MB)\n",
      "\u001b[K     |████████████████████████████████| 1.3 MB 10.9 MB/s \n",
      "\u001b[?25hRequirement already satisfied: pytz in /usr/local/lib/python3.7/dist-packages (from chatterbot) (2022.1)\n",
      "Requirement already satisfied: python-dateutil<2.9,>=2.8 in /usr/local/lib/python3.7/dist-packages (from chatterbot) (2.8.2)\n",
      "Requirement already satisfied: six>=1.5 in /usr/local/lib/python3.7/dist-packages (from python-dateutil<2.9,>=2.8->chatterbot) (1.15.0)\n",
      "Installing collected packages: sqlalchemy, mathparse, chatterbot\n",
      "  Attempting uninstall: sqlalchemy\n",
      "    Found existing installation: SQLAlchemy 1.4.35\n",
      "    Uninstalling SQLAlchemy-1.4.35:\n",
      "      Successfully uninstalled SQLAlchemy-1.4.35\n",
      "Successfully installed chatterbot-1.0.8 mathparse-0.1.2 sqlalchemy-1.3.24\n"
     ]
    }
   ],
   "source": [
    "pip install chatterbot\n"
   ]
  },
  {
   "cell_type": "code",
   "execution_count": null,
   "metadata": {
    "colab": {
     "base_uri": "https://localhost:8080/"
    },
    "id": "k2nmdirB6RAM",
    "outputId": "886ef504-4c78-4f47-e9fd-784fc6f05edf"
   },
   "outputs": [
    {
     "name": "stdout",
     "output_type": "stream",
     "text": [
      "Collecting chatterbot_corpus\n",
      "  Downloading chatterbot_corpus-1.2.0-py2.py3-none-any.whl (117 kB)\n",
      "\u001b[?25l\r",
      "\u001b[K     |██▉                             | 10 kB 19.0 MB/s eta 0:00:01\r",
      "\u001b[K     |█████▋                          | 20 kB 11.4 MB/s eta 0:00:01\r",
      "\u001b[K     |████████▍                       | 30 kB 9.0 MB/s eta 0:00:01\r",
      "\u001b[K     |███████████▏                    | 40 kB 8.1 MB/s eta 0:00:01\r",
      "\u001b[K     |██████████████                  | 51 kB 4.6 MB/s eta 0:00:01\r",
      "\u001b[K     |████████████████▊               | 61 kB 5.4 MB/s eta 0:00:01\r",
      "\u001b[K     |███████████████████▋            | 71 kB 5.4 MB/s eta 0:00:01\r",
      "\u001b[K     |██████████████████████▍         | 81 kB 5.3 MB/s eta 0:00:01\r",
      "\u001b[K     |█████████████████████████▏      | 92 kB 5.9 MB/s eta 0:00:01\r",
      "\u001b[K     |████████████████████████████    | 102 kB 5.2 MB/s eta 0:00:01\r",
      "\u001b[K     |██████████████████████████████▊ | 112 kB 5.2 MB/s eta 0:00:01\r",
      "\u001b[K     |████████████████████████████████| 117 kB 5.2 MB/s \n",
      "\u001b[?25hRequirement already satisfied: PyYAML<4.0,>=3.12 in /usr/local/lib/python3.7/dist-packages (from chatterbot_corpus) (3.13)\n",
      "Installing collected packages: chatterbot-corpus\n",
      "Successfully installed chatterbot-corpus-1.2.0\n"
     ]
    }
   ],
   "source": [
    "pip install chatterbot_corpus"
   ]
  },
  {
   "cell_type": "code",
   "execution_count": null,
   "metadata": {
    "colab": {
     "base_uri": "https://localhost:8080/"
    },
    "id": "faOgdWkn6ZVc",
    "outputId": "e6754ffc-9a84-4edb-843b-f21a355b909f"
   },
   "outputs": [
    {
     "name": "stdout",
     "output_type": "stream",
     "text": [
      "Requirement already satisfied: chatterbot_corpus in /usr/local/lib/python3.7/dist-packages (1.2.0)\n",
      "Requirement already satisfied: PyYAML<4.0,>=3.12 in /usr/local/lib/python3.7/dist-packages (from chatterbot_corpus) (3.13)\n"
     ]
    }
   ],
   "source": [
    "pip install chatterbot_corpus"
   ]
  },
  {
   "cell_type": "code",
   "execution_count": null,
   "metadata": {
    "id": "i0AZzTI56ekk"
   },
   "outputs": [],
   "source": [
    "import spacy"
   ]
  },
  {
   "cell_type": "code",
   "execution_count": null,
   "metadata": {
    "colab": {
     "base_uri": "https://localhost:8080/"
    },
    "id": "fVQo0yFo6kkm",
    "outputId": "1ddbbc32-4c2c-4b23-f0cf-5489fa950409"
   },
   "outputs": [
    {
     "name": "stdout",
     "output_type": "stream",
     "text": [
      "\u001b[38;5;2m✔ Download and installation successful\u001b[0m\n",
      "You can now load the model via spacy.load('en_core_web_sm')\n"
     ]
    }
   ],
   "source": [
    "from spacy.cli.download import download\n",
    "download(model=\"en_core_web_sm\")"
   ]
  },
  {
   "cell_type": "code",
   "execution_count": null,
   "metadata": {
    "id": "c3BEISIq6rIw"
   },
   "outputs": [],
   "source": [
    "from chatterbot import ChatBot"
   ]
  },
  {
   "cell_type": "code",
   "execution_count": null,
   "metadata": {
    "id": "pd7MRqxM6xTw"
   },
   "outputs": [],
   "source": [
    "from chatterbot.trainers import ListTrainer\n"
   ]
  },
  {
   "cell_type": "code",
   "execution_count": null,
   "metadata": {
    "id": "4fDLDq-r6zc_"
   },
   "outputs": [],
   "source": [
    "from chatterbot import ChatBot\n"
   ]
  },
  {
   "cell_type": "code",
   "execution_count": null,
   "metadata": {
    "id": "HPbduV4w61m_"
   },
   "outputs": [],
   "source": [
    "from chatterbot.trainers import ListTrainer\n"
   ]
  },
  {
   "cell_type": "code",
   "execution_count": null,
   "metadata": {
    "id": "NkzwSkGt67BP"
   },
   "outputs": [],
   "source": [
    "chatbot = ChatBot('name')\n"
   ]
  },
  {
   "cell_type": "code",
   "execution_count": null,
   "metadata": {
    "id": "ULtGzJ8M7D_m"
   },
   "outputs": [],
   "source": [
    "trainer = ListTrainer(chatbot)\n"
   ]
  },
  {
   "cell_type": "code",
   "execution_count": null,
   "metadata": {
    "colab": {
     "base_uri": "https://localhost:8080/"
    },
    "id": "hmvsevax7Gkt",
    "outputId": "7f0a9e4a-c262-4903-8b3b-fd0bf66cd013"
   },
   "outputs": [
    {
     "name": "stdout",
     "output_type": "stream",
     "text": [
      "List Trainer: [####################] 100%\n"
     ]
    }
   ],
   "source": [
    "trainer.train([\n",
    "    \"Hi, can I help you?\",\n",
    "    \"Sure, I'd like to book a flight to Iceland.\",\n",
    "    \"Your flight has been booked.\"\n",
    "])"
   ]
  },
  {
   "cell_type": "code",
   "execution_count": null,
   "metadata": {
    "id": "9EKEQ56j7JaJ"
   },
   "outputs": [],
   "source": [
    "response = chatbot.get_response('I would like to book a flight.')\n"
   ]
  },
  {
   "cell_type": "code",
   "execution_count": null,
   "metadata": {
    "colab": {
     "base_uri": "https://localhost:8080/"
    },
    "id": "nSaeGip07ORw",
    "outputId": "4671d8f2-88c6-4f1f-899b-4b18c8b1f102"
   },
   "outputs": [
    {
     "name": "stdout",
     "output_type": "stream",
     "text": [
      "Your flight has been booked.\n"
     ]
    }
   ],
   "source": [
    "print(response)\n"
   ]
  },
  {
   "cell_type": "code",
   "execution_count": null,
   "metadata": {
    "colab": {
     "base_uri": "https://localhost:8080/"
    },
    "id": "Wf0D4zuH7QhA",
    "outputId": "933dcae9-45d3-48d6-a270-c47388b9806b"
   },
   "outputs": [
    {
     "name": "stdout",
     "output_type": "stream",
     "text": [
      "hi\n",
      "Bot: Hi, can I help you?\n",
      "sure, i'd like to book a flight to iceland\n",
      "Bot: Your flight has been booked.\n",
      "exit\n"
     ]
    }
   ],
   "source": [
    "while True:\n",
    "  query= input()\n",
    "  if query == 'exit':\n",
    "    break\n",
    "\n",
    "  ans=chatbot.get_response(query)\n",
    "  print(\"Bot:\",ans)  "
   ]
  },
  {
   "cell_type": "code",
   "execution_count": null,
   "metadata": {
    "id": "7vlWTIUp7nuH"
   },
   "outputs": [],
   "source": []
  }
 ],
 "metadata": {
  "colab": {
   "collapsed_sections": [],
   "name": "Copy of Untitled1.ipynb",
   "provenance": []
  },
  "kernelspec": {
   "display_name": "Python 3",
   "language": "python",
   "name": "python3"
  },
  "language_info": {
   "codemirror_mode": {
    "name": "ipython",
    "version": 3
   },
   "file_extension": ".py",
   "mimetype": "text/x-python",
   "name": "python",
   "nbconvert_exporter": "python",
   "pygments_lexer": "ipython3",
   "version": "3.8.5"
  }
 },
 "nbformat": 4,
 "nbformat_minor": 1
}
